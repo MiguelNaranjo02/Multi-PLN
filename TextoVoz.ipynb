{
 "cells": [
  {
   "cell_type": "markdown",
   "id": "f2c94756",
   "metadata": {},
   "source": [
    "# Voz - Texto"
   ]
  },
  {
   "cell_type": "code",
   "execution_count": null,
   "id": "97e25d76",
   "metadata": {},
   "outputs": [
    {
     "name": "stdout",
     "output_type": "stream",
     "text": [
      "🎤 Grabando...\n",
      "✅ Grabación finalizada. Archivo guardado como 'grabacion.wav'\n"
     ]
    }
   ],
   "source": [
    "import sounddevice as sd\n",
    "from scipy.io.wavfile import write\n",
    "\n",
    "# Parámetros de grabación\n",
    "fs = 44100  # Frecuencia de muestreo\n",
    "duration = 5  # Duración en segundos\n",
    "filename = \"grabacion.wav\"\n",
    "\n",
    "print(\"🎤 Grabando...\")\n",
    "audio = sd.rec(int(duration * fs), samplerate=fs, channels=1)\n",
    "sd.wait() \n",
    "write(filename, fs, audio)\n",
    "print(f\"✅ Grabación finalizada. Archivo guardado como '{filename}'\")\n"
   ]
  },
  {
   "cell_type": "code",
   "execution_count": null,
   "id": "a26d2d20",
   "metadata": {},
   "outputs": [
    {
     "name": "stdout",
     "output_type": "stream",
     "text": [
      "✅ ffmpeg está instalado correctamente.\n"
     ]
    }
   ],
   "source": [
    "import subprocess\n",
    "\n",
    "# Ver si ffmpeg está disponible y que no cause errores \n",
    "try:\n",
    "    subprocess.run([\"ffmpeg\", \"-version\"], check=True)\n",
    "    print(\"✅ ffmpeg está instalado correctamente.\")\n",
    "except FileNotFoundError:\n",
    "    print(\"❌ ffmpeg NO está instalado o no está en el PATH.\")\n"
   ]
  },
  {
   "cell_type": "code",
   "execution_count": 10,
   "id": "042437cb",
   "metadata": {},
   "outputs": [
    {
     "name": "stdout",
     "output_type": "stream",
     "text": [
      "📝 Texto transcrito:\n",
      " Esta es una pequeña prueba a ver si Whispers es capaz de pasar la voz al texto\n"
     ]
    }
   ],
   "source": [
    "import whisper\n",
    "\n",
    "# Cargar el modelo (\"base\",\"small\", \"medium\", o \"large\")\n",
    "model = whisper.load_model(\"medium\")\n",
    "\n",
    "# Transcribir el audio\n",
    "result = model.transcribe(\"grabacion.wav\", language=\"es\")\n",
    "\n",
    "# Mostrar el resultado\n",
    "print(\"📝 Texto transcrito:\")\n",
    "print(result[\"text\"])\n"
   ]
  },
  {
   "cell_type": "markdown",
   "id": "90872e76",
   "metadata": {},
   "source": [
    "# Texto - Texto (LLM o Transformers)"
   ]
  },
  {
   "cell_type": "markdown",
   "id": "260206d6",
   "metadata": {},
   "source": [
    "## LM Studio "
   ]
  },
  {
   "cell_type": "code",
   "execution_count": 2,
   "id": "959f2693",
   "metadata": {},
   "outputs": [
    {
     "name": "stdout",
     "output_type": "stream",
     "text": [
      "✨ Respuesta del LLM:\n",
      "Claro, aquí tienes la traducción al inglés:\n",
      "\n",
      "\"Artificial intelligence enables machines to make complex decisions. Currently, it is used in areas such as medicine, finance, and transportation.\" \n",
      "\n",
      "Si necesitas más ayuda o alguna otra traducción, no dudes en decírmelo.\n"
     ]
    }
   ],
   "source": [
    "from openai import OpenAI\n",
    "\n",
    "client = OpenAI(base_url=\"http://localhost:1234/v1\", api_key=\"lm-studio\")\n",
    "\n",
    "\n",
    "entrada_texto = \"Puedes ayudarme a traducir a inglés lo siguiente: La inteligencia artificial permite que las máquinas tomen decisiones complejas. Actualmente, se usa en áreas como medicina, finanzas y transporte.\"\n",
    "\n",
    "completion = client.chat.completions.create(\n",
    "    model=\"local-model\",\n",
    "    messages=[\n",
    "        {\"role\": \"system\", \"content\": \"Eres un asistente útil y amable que responde en español.\"},\n",
    "        {\"role\": \"user\", \"content\": entrada_texto}\n",
    "    ],\n",
    "    temperature=0.7,\n",
    "    # max_tokens=100, # Limitar la longitud de la respuesta.\n",
    ")\n",
    "\n",
    "# 4. Mostrar el resultado\n",
    "print(\"✨ Respuesta del LLM:\")\n",
    "print(completion.choices[0].message.content)"
   ]
  },
  {
   "cell_type": "code",
   "execution_count": 3,
   "id": "767956ee",
   "metadata": {},
   "outputs": [
    {
     "name": "stdout",
     "output_type": "stream",
     "text": [
      "✨ Respuesta del LLM:\n",
      "Claro, aquí tienes un resumen del texto:\n",
      "\n",
      "El machine learning es una parte de la inteligencia artificial que permite a las computadoras aprender por sí mismas sin programación específica para cada tarea. En lugar de seguir instrucciones detalladas, estos sistemas identifican patrones en los datos y realizan predicciones o decisiones basándose en el aprendizaje adquirido.\n",
      "\n",
      "Si necesitas más detalles o aclaraciones sobre este tema, no dudes en preguntar.\n"
     ]
    }
   ],
   "source": [
    "from openai import OpenAI\n",
    "\n",
    "client = OpenAI(base_url=\"http://localhost:1234/v1\", api_key=\"lm-studio\")\n",
    "\n",
    "\n",
    "entrada_texto = \"Puedes ayudarme a resumir lo siguiente: El machine learning, o aprendizaje automático, es una rama de la inteligencia artificial que permite a las computadoras aprender de los datos sin ser programadas explícitamente para cada tarea. En lugar de recibir instrucciones detalladas, los sistemas de machine learning identifican patrones en los datos y hacen predicciones o toman decisiones basadas en ese aprendizaje. \"\n",
    "\n",
    "completion = client.chat.completions.create(\n",
    "    model=\"local-model\",\n",
    "    messages=[\n",
    "        {\"role\": \"system\", \"content\": \"Eres un asistente útil y amable que responde en español.\"},\n",
    "        {\"role\": \"user\", \"content\": entrada_texto}\n",
    "    ],\n",
    "    temperature=0.7,\n",
    "    # max_tokens=100, # Limitar la longitud de la respuesta.\n",
    ")\n",
    "\n",
    "# 4. Mostrar el resultado\n",
    "print(\"✨ Respuesta del LLM:\")\n",
    "print(completion.choices[0].message.content)"
   ]
  },
  {
   "cell_type": "code",
   "execution_count": 4,
   "id": "fac4e47d",
   "metadata": {},
   "outputs": [
    {
     "name": "stdout",
     "output_type": "stream",
     "text": [
      "✨ Respuesta del LLM:\n",
      "El *Deep Learning* (aprendizaje profundo) es una subdisciplina de las ciencias computacionales que forma parte del campo más amplio del *Machine Learning* (aprendizaje automático), el cual a su vez se sitúa dentro del dominio de la Inteligencia Artificial (IA).\n",
      "\n",
      "### Deep Learning\n",
      "El Deep Learning utiliza redes neuronales artificiales con múltiples capas, lo que le permite aprender patrones complejos en grandes volúmenes de datos. Estas \"capas\" permiten a las redes identificar características a diferentes niveles de abstracción.\n",
      "\n",
      "#### Características clave:\n",
      "- **Redes Neuronales Profundas**: Compuestas por varias capas ocultas entre la entrada y la salida.\n",
      "- **Capacidad de Aprendizaje Automático**: Pueden ajustarse automáticamente para predecir resultados a partir de datos, mejorando su precisión con el tiempo.\n",
      "\n",
      "### Machine Learning\n",
      "El Machine Learning es una rama de la IA que se centra en crear algoritmos capaces de aprender y mejorar con experiencia sin ser explícitamente programados. Incluye técnicas como regresión lineal, árboles de decisión, entre otros.\n",
      "\n",
      "#### Relación:\n",
      "- *Deep Learning* es una especialización dentro del Machine Learning que utiliza redes neuronales profundas.\n",
      "- Mientras que el Machine Learning puede utilizar algoritmos más simples o tradicionales, el Deep Learning se centra en modelos complejos con múltiples capas de procesamiento.\n",
      "\n",
      "### Inteligencia Artificial\n",
      "La IA abarca un conjunto de técnicas y métodos para crear sistemas que puedan realizar tareas que requieren inteligencia humana. Esto incluye no solo aprendizaje automático, sino también otras áreas como planificación, percepción y lenguaje natural.\n",
      "\n",
      "#### Relación:\n",
      "- *Machine Learning* es una parte importante de la IA, proporcionando los métodos para permitir que las máquinas aprendan.\n",
      "- El Deep Learning, a su vez, representa un enfoque avanzado dentro del Machine Learning que ha impulsado muchos avances recientes en el campo de la IA.\n",
      "\n",
      "En resumen, el Deep Learning es una rama especializada del Machine Learning enfocada en redes neuronales profundas y se sitúa como parte de las técnicas utilizadas en la búsqueda de crear sistemas inteligentes dentro del ámbito más amplio de la Inteligencia Artificial.\n"
     ]
    }
   ],
   "source": [
    "from openai import OpenAI\n",
    "\n",
    "client = OpenAI(base_url=\"http://localhost:1234/v1\", api_key=\"lm-studio\")\n",
    "\n",
    "\n",
    "entrada_texto = \"Que es el Deep Learning y como se relaciona con el Machine Learning y la Inteligencia Artificial.\"\n",
    "\n",
    "completion = client.chat.completions.create(\n",
    "    model=\"local-model\",\n",
    "    messages=[\n",
    "        {\"role\": \"system\", \"content\": \"Eres un asistente útil y amable que responde en español.\"},\n",
    "        {\"role\": \"user\", \"content\": entrada_texto}\n",
    "    ],\n",
    "    temperature=0.7,\n",
    "    # max_tokens=100, # Limitar la longitud de la respuesta.\n",
    ")\n",
    "\n",
    "# 4. Mostrar el resultado\n",
    "print(\"✨ Respuesta del LLM:\")\n",
    "print(completion.choices[0].message.content)"
   ]
  },
  {
   "cell_type": "code",
   "execution_count": null,
   "id": "10e21733",
   "metadata": {},
   "outputs": [
    {
     "data": {
      "application/vnd.jupyter.widget-view+json": {
       "model_id": "5cd5c880eccc47779802c8d74689ee67",
       "version_major": 2,
       "version_minor": 0
      },
      "text/plain": [
       "Textarea(value='', description='Tu Pregunta:', layout=Layout(height='80px', width='auto'), placeholder='Escrib…"
      ]
     },
     "metadata": {},
     "output_type": "display_data"
    },
    {
     "data": {
      "application/vnd.jupyter.widget-view+json": {
       "model_id": "a633e21b22034936823f01159227b47b",
       "version_major": 2,
       "version_minor": 0
      },
      "text/plain": [
       "Button(button_style='success', description='Enviar', icon='send', style=ButtonStyle(), tooltip='Haz clic para …"
      ]
     },
     "metadata": {},
     "output_type": "display_data"
    },
    {
     "data": {
      "application/vnd.jupyter.widget-view+json": {
       "model_id": "e653ca5c790a4ccfb74da2fe5432bd5b",
       "version_major": 2,
       "version_minor": 0
      },
      "text/plain": [
       "Output(layout=Layout(border='1px solid #ddd', margin='10px 0', max_height='300px', overflow_x='hidden', overfl…"
      ]
     },
     "metadata": {},
     "output_type": "display_data"
    }
   ],
   "source": [
    "# from openai import OpenAI\n",
    "# import ipywidgets as widgets\n",
    "# from IPython.display import display, clear_output\n",
    "\n",
    "# # Configura tu cliente de OpenAI\n",
    "# client = OpenAI(base_url=\"http://localhost:1234/v1\", api_key=\"lm-studio\")\n",
    "\n",
    "# # 1. Crea los widgets\n",
    "# text_input = widgets.Textarea(\n",
    "#     value='',\n",
    "#     placeholder='Escribe tu pregunta aquí...',\n",
    "#     description='Tu Pregunta:',\n",
    "#     disabled=False,\n",
    "#     layout=widgets.Layout(width='auto', height='80px')\n",
    "# )\n",
    "\n",
    "# output_area = widgets.Output(\n",
    "#     layout=widgets.Layout(\n",
    "#         border='1px solid #ddd',        # Borde para visualizar el área\n",
    "#         max_height='300px',             # Altura máxima antes de scroll vertical\n",
    "#         overflow_y='auto',              # Scroll vertical si el contenido excede la altura\n",
    "   \n",
    "#         overflow_x='hidden',            # Oculta el scroll horizontal si aparece (preferiblemente se evita)\n",
    "#         white_space='pre-wrap',         # Permite que el texto se envuelva y respete los saltos de línea del modelo\n",
    "#         word_wrap='break-word',         # Rompe palabras largas si exceden el ancho\n",
    "\n",
    "#         padding='10px',\n",
    "#         margin='10px 0'\n",
    "#     )\n",
    "# )\n",
    "\n",
    "# send_button = widgets.Button(\n",
    "#     description='Enviar',\n",
    "#     button_style='success',\n",
    "#     tooltip='Haz clic para enviar tu pregunta',\n",
    "#     icon='send'\n",
    "# )\n",
    "\n",
    "# # 2. Define la función que se ejecutará al hacer clic en el botón\n",
    "# def on_send_button_clicked(b):\n",
    "#     with output_area:\n",
    "#         clear_output()\n",
    "#         user_question = text_input.value\n",
    "        \n",
    "#         if not user_question:\n",
    "#             print(\"Por favor, escribe algo para enviar.\")\n",
    "#             return\n",
    "\n",
    "#         print(\"Generando respuesta... Por favor, espera.\")\n",
    "        \n",
    "#         try:\n",
    "#             completion = client.chat.completions.create(\n",
    "#                 model=\"local-model\",\n",
    "#                 messages=[\n",
    "#                     {\"role\": \"system\", \"content\": \"Eres un asistente útil y amable que responde en español.\"},\n",
    "#                     {\"role\": \"user\", \"content\": user_question}\n",
    "#                 ],\n",
    "#                 temperature=0.7,\n",
    "#                 # max_tokens=None, # Asegúrate de que no haya un max_tokens bajo aquí\n",
    "#             )\n",
    "            \n",
    "#             clear_output()\n",
    "#             print(\"✨ Respuesta del LLM:\")\n",
    "#             # Aquí no necesitamos formatear la cadena, widgets.Output ya maneja los saltos de línea\n",
    "#             print(completion.choices[0].message.content) \n",
    "            \n",
    "#         except Exception as e:\n",
    "#             clear_output()\n",
    "#             print(f\"Ocurrió un error: {e}\")\n",
    "#             print(\"Asegúrate de que tu servidor local de OpenAI esté funcionando.\")\n",
    "\n",
    "# # 3. Asocia la función al evento de clic del botón\n",
    "# send_button.on_click(on_send_button_clicked)\n",
    "\n",
    "# # 4. Muestra los widgets en el notebook\n",
    "# display(text_input, send_button, output_area)"
   ]
  },
  {
   "cell_type": "markdown",
   "id": "b5e3cd6a",
   "metadata": {},
   "source": [
    "## Transformers"
   ]
  },
  {
   "cell_type": "code",
   "execution_count": 2,
   "id": "65ad74b5",
   "metadata": {},
   "outputs": [],
   "source": [
    "from transformers import pipeline\n",
    "\n",
    "# Texto base en español\n",
    "texto = \"\"\"\n",
    "La inteligencia artificial permite que las máquinas tomen decisiones complejas.\n",
    "Actualmente, se usa en áreas como medicina, finanzas y transporte.\n",
    "\"\"\""
   ]
  },
  {
   "cell_type": "code",
   "execution_count": 5,
   "id": "0e801a48",
   "metadata": {},
   "outputs": [
    {
     "name": "stderr",
     "output_type": "stream",
     "text": [
      "Device set to use cuda:0\n",
      "Your max_length is set to 60, but your input_length is only 51. Since this is a summarization task, where outputs shorter than the input are typically wanted, you might consider decreasing max_length manually, e.g. summarizer('...', max_length=25)\n"
     ]
    },
    {
     "name": "stdout",
     "output_type": "stream",
     "text": [
      "📝 Resumen: La inteligencia artificial permite que las máquinas tomen decisiones complejas. Se usa en áreas como medicina, finanzas y transporte.\n"
     ]
    }
   ],
   "source": [
    "# Crear el pipeline de resumen con BART\n",
    "resumidor = pipeline(\"summarization\", model=\"facebook/bart-large-cnn\", framework=\"pt\")\n",
    "\n",
    "# Generar resumen\n",
    "resumen = resumidor(texto, max_length=60, min_length=10, do_sample=False)\n",
    "\n",
    "# Mostrar resumen\n",
    "print(\"📝 Resumen:\", resumen[0]['summary_text'])\n"
   ]
  },
  {
   "cell_type": "code",
   "execution_count": 6,
   "id": "7541c9bc",
   "metadata": {},
   "outputs": [
    {
     "name": "stderr",
     "output_type": "stream",
     "text": [
      "Device set to use cuda:0\n"
     ]
    },
    {
     "name": "stdout",
     "output_type": "stream",
     "text": [
      "🌍 Traducción: Artificial intelligence allows machines to make complex decisions. It is used in areas such as medicine, finance and transportation.\n"
     ]
    }
   ],
   "source": [
    "# Crear el pipeline de traducción\n",
    "traductor = pipeline(\"translation\", model=\"Helsinki-NLP/opus-mt-es-en\", framework=\"pt\")\n",
    "\n",
    "# Traducir el resumen al inglés\n",
    "traduccion = traductor(resumen[0]['summary_text'])\n",
    "\n",
    "\n",
    "# Mostrar traducción\n",
    "print(\"🌍 Traducción:\", traduccion[0]['translation_text'])\n"
   ]
  },
  {
   "cell_type": "code",
   "execution_count": 21,
   "id": "385aa6d5",
   "metadata": {},
   "outputs": [
    {
     "name": "stderr",
     "output_type": "stream",
     "text": [
      "Device set to use cuda:0\n",
      "Setting `pad_token_id` to `eos_token_id`:50256 for open-end generation.\n"
     ]
    },
    {
     "name": "stdout",
     "output_type": "stream",
     "text": [
      "✨ Continuación: Artificial intelligence allows machines to make complex decisions. It is used in areas such as medicine, finance and transportation. Let's explore its future possibilities.\n",
      "\n",
      "The future of AI in medicine\n",
      "\n",
      "The technology that creates medicine is already being developed. In fact, many research projects of this sort are being financed in a number of countries. These collaborations are supported by the US, UK, France and Germany. The big universities are all involved in developing AI technologies. In other words, they are funding the development of artificial intelligence and robotics in medicine.\n",
      "\n",
      "The future of AI in finance and government\n",
      "\n",
      "A recent study by McKinsey Global Institute\n"
     ]
    }
   ],
   "source": [
    "# Crear el pipeline de generación de texto con GPT-2\n",
    "generador = pipeline(\n",
    "\"text-generation\",\n",
    "    model=\"gpt2\",\n",
    "    framework=\"pt\"\n",
    ")\n",
    "\n",
    "# Texto de entrada traducido al inglés (por ejemplo, un resumen)\n",
    "entrada = traduccion[0]['translation_text'] + \" Let's explore its future possibilities.\"\n",
    "#entrada = texto \n",
    "\n",
    "# Generar continuación del texto con parámetros ajustados\n",
    "continuacion = generador(\n",
    "    entrada,\n",
    "    max_new_tokens=100,        # Número de palabras nuevas a generar\n",
    "    temperature=0.9,           # Controla la creatividad (0.7-1.0 recomendado)\n",
    "    top_p=0.95,                # Genera usando solo el top p% de palabras más probables.\n",
    "    do_sample=True             # Activa el uso de muestreo probabilístico (necesario para temperature y top_p).\n",
    ")\n",
    "\n",
    "# Mostrar el resultado\n",
    "print(\"✨ Continuación:\", continuacion[0]['generated_text'])\n"
   ]
  },
  {
   "cell_type": "code",
   "execution_count": null,
   "id": "5708c052",
   "metadata": {},
   "outputs": [],
   "source": [
    "# Recordatorio si llega a molestar por la gpu pipeline(\"summarization\", model=\"facebook/bart-large-cnn\", device=-1)"
   ]
  },
  {
   "cell_type": "markdown",
   "id": "e09b1e68",
   "metadata": {},
   "source": [
    "# Texto - Voz"
   ]
  },
  {
   "cell_type": "code",
   "execution_count": null,
   "id": "52adf584",
   "metadata": {},
   "outputs": [
    {
     "data": {
      "text/html": [
       "\n",
       "                <audio  controls=\"controls\" >\n",
       "                    <source src=\"data:audio/mpeg;base64,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\" type=\"audio/mpeg\" />\n",
       "                    Your browser does not support the audio element.\n",
       "                </audio>\n",
       "              "
      ],
      "text/plain": [
       "<IPython.lib.display.Audio object>"
      ]
     },
     "execution_count": 2,
     "metadata": {},
     "output_type": "execute_result"
    }
   ],
   "source": [
    "from gtts import gTTS\n",
    "from IPython.display import Audio\n",
    "\n",
    "# Texto a convertir\n",
    "texto = \"Hola, esta es una prueba de texto a voz usando gTTS de Google.\"\n",
    "\n",
    "# Crear el objeto de voz en español\n",
    "tts = gTTS(text=texto, lang='es')\n",
    "\n",
    "# Guardar el archivo de audio\n",
    "tts.save(\"voz.mp3\")\n",
    "\n",
    "# Reproducir el audio (funciona en Jupyter, Colab o VSCode con IPython)\n",
    "Audio(\"voz.mp3\")\n"
   ]
  }
 ],
 "metadata": {
  "kernelspec": {
   "display_name": "base",
   "language": "python",
   "name": "python3"
  },
  "language_info": {
   "codemirror_mode": {
    "name": "ipython",
    "version": 3
   },
   "file_extension": ".py",
   "mimetype": "text/x-python",
   "name": "python",
   "nbconvert_exporter": "python",
   "pygments_lexer": "ipython3",
   "version": "3.12.3"
  }
 },
 "nbformat": 4,
 "nbformat_minor": 5
}
